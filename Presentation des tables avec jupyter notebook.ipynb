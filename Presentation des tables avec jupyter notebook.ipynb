{
 "cells": [
  {
   "cell_type": "markdown",
   "id": "3e7486c2",
   "metadata": {},
   "source": [
    "Table PASSAGERS : \n",
    "\n",
    "passengenrId int Clé primaire : numéro de passager \n",
    "\n",
    "Survival int : si la personne a survécue ou non (0 ou 1) \n",
    "1 : Upper\t\n",
    "\n",
    "2 : Middle\t\n",
    "\n",
    "3 : Lower \n",
    "Name varchar(100) : nom complet du passager \n",
    "\n",
    "sex varchar(8) : sexe du passager female = femme / male= homme \n",
    "\n",
    "age float : age de du passager \n",
    "\n",
    "sibsp int : nombre de frère/soeur et demi frère/soeur mais aussi les conjoints, pas de maitresse et fiancé \n",
    "\n",
    "parch int : nombre de parent à bord = père/mère \n",
    "     enfants = fils/fille et beau fils/belle fille \n",
    "0 si voyage avec nounou \n",
    "\n",
    "Table RESERVATIONS : \n",
    "\n",
    "passengerId int clé étrangère \n",
    "\n",
    "pclass int : classe du passager dans le navire \n",
    "\n",
    "ticket varchar (100) : numéro de ticket \n",
    "\n",
    "fare float : prix du ticket \n",
    "\n",
    "Embarked varchar(1) : ville du port d’embarquation \n",
    "C = Cherbourg\t\n",
    "\n",
    "\t\n",
    "\n",
    "Q = Queenstown\t\n",
    "\n",
    "S = Southampton \n",
    " \n",
    "Donc au total 12 attributs pour 891 tuples, Cardinalité = 891 et Degré= 12 \n",
    "  "
   ]
  }
 ],
 "metadata": {
  "kernelspec": {
   "display_name": "Python 3",
   "language": "python",
   "name": "python3"
  },
  "language_info": {
   "codemirror_mode": {
    "name": "ipython",
    "version": 3
   },
   "file_extension": ".py",
   "mimetype": "text/x-python",
   "name": "python",
   "nbconvert_exporter": "python",
   "pygments_lexer": "ipython3",
   "version": "3.8.8"
  }
 },
 "nbformat": 4,
 "nbformat_minor": 5
}
