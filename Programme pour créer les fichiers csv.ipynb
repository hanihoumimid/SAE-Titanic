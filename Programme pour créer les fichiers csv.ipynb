{
 "cells": [
  {
   "cell_type": "code",
   "execution_count": 1,
   "id": "19dc1e87",
   "metadata": {},
   "outputs": [],
   "source": [
    "def parse_line( ligne , sep, num_colonne, ty) :\n",
    "        li = ligne.split(sep)\n",
    "        if ty == \"int\" :\n",
    "            return(int(li[num_colonne]))\n",
    "        elif ty == \"float\" :\n",
    "            return(float(li[num_colonne]))\n",
    "        elif ty == \"str\" :\n",
    "            return(li[num_colonne])\n",
    "        elif ty == \"bool\" :\n",
    "            return(bool(li[num_colonne]))\n",
    "        else:\n",
    "            print(\"Erreur type non reconnu.\")"
   ]
  },
  {
   "cell_type": "code",
   "execution_count": 2,
   "id": "c846f819",
   "metadata": {},
   "outputs": [
    {
     "ename": "FileNotFoundError",
     "evalue": "[Errno 2] No such file or directory: 'Liste_etu.csv'",
     "output_type": "error",
     "traceback": [
      "\u001b[1;31m---------------------------------------------------------------------------\u001b[0m",
      "\u001b[1;31mFileNotFoundError\u001b[0m                         Traceback (most recent call last)",
      "Cell \u001b[1;32mIn[2], line 1\u001b[0m\n\u001b[1;32m----> 1\u001b[0m f_input \u001b[38;5;241m=\u001b[39m \u001b[38;5;28;43mopen\u001b[39;49m\u001b[43m(\u001b[49m\u001b[43m \u001b[49m\u001b[38;5;124;43m'\u001b[39;49m\u001b[38;5;124;43mListe_etu.csv\u001b[39;49m\u001b[38;5;124;43m'\u001b[39;49m\u001b[43m \u001b[49m\u001b[43m,\u001b[49m\u001b[43m \u001b[49m\u001b[38;5;124;43m'\u001b[39;49m\u001b[38;5;124;43mr\u001b[39;49m\u001b[38;5;124;43m'\u001b[39;49m\u001b[43m)\u001b[49m\n\u001b[0;32m      2\u001b[0m Student_id \u001b[38;5;241m=\u001b[39m []\n\u001b[0;32m      3\u001b[0m nom \u001b[38;5;241m=\u001b[39m []\n",
      "File \u001b[1;32m~\\AppData\\Roaming\\Python\\Python311\\site-packages\\IPython\\core\\interactiveshell.py:310\u001b[0m, in \u001b[0;36m_modified_open\u001b[1;34m(file, *args, **kwargs)\u001b[0m\n\u001b[0;32m    303\u001b[0m \u001b[38;5;28;01mif\u001b[39;00m file \u001b[38;5;129;01min\u001b[39;00m {\u001b[38;5;241m0\u001b[39m, \u001b[38;5;241m1\u001b[39m, \u001b[38;5;241m2\u001b[39m}:\n\u001b[0;32m    304\u001b[0m     \u001b[38;5;28;01mraise\u001b[39;00m \u001b[38;5;167;01mValueError\u001b[39;00m(\n\u001b[0;32m    305\u001b[0m         \u001b[38;5;124mf\u001b[39m\u001b[38;5;124m\"\u001b[39m\u001b[38;5;124mIPython won\u001b[39m\u001b[38;5;124m'\u001b[39m\u001b[38;5;124mt let you open fd=\u001b[39m\u001b[38;5;132;01m{\u001b[39;00mfile\u001b[38;5;132;01m}\u001b[39;00m\u001b[38;5;124m by default \u001b[39m\u001b[38;5;124m\"\u001b[39m\n\u001b[0;32m    306\u001b[0m         \u001b[38;5;124m\"\u001b[39m\u001b[38;5;124mas it is likely to crash IPython. If you know what you are doing, \u001b[39m\u001b[38;5;124m\"\u001b[39m\n\u001b[0;32m    307\u001b[0m         \u001b[38;5;124m\"\u001b[39m\u001b[38;5;124myou can use builtins\u001b[39m\u001b[38;5;124m'\u001b[39m\u001b[38;5;124m open.\u001b[39m\u001b[38;5;124m\"\u001b[39m\n\u001b[0;32m    308\u001b[0m     )\n\u001b[1;32m--> 310\u001b[0m \u001b[38;5;28;01mreturn\u001b[39;00m \u001b[43mio_open\u001b[49m\u001b[43m(\u001b[49m\u001b[43mfile\u001b[49m\u001b[43m,\u001b[49m\u001b[43m \u001b[49m\u001b[38;5;241;43m*\u001b[39;49m\u001b[43margs\u001b[49m\u001b[43m,\u001b[49m\u001b[43m \u001b[49m\u001b[38;5;241;43m*\u001b[39;49m\u001b[38;5;241;43m*\u001b[39;49m\u001b[43mkwargs\u001b[49m\u001b[43m)\u001b[49m\n",
      "\u001b[1;31mFileNotFoundError\u001b[0m: [Errno 2] No such file or directory: 'Liste_etu.csv'"
     ]
    }
   ],
   "source": [
    "f_input = open( 'Liste_etu.csv' , 'r')\n",
    "Student_id = []\n",
    "nom = []\n",
    "prenom = []\n",
    "groupe = []\n",
    "mail = []\n",
    "formation_id = []\n",
    "f_input.readline()\n",
    "li = f_input.readline()\n",
    "while ('' != li) :\n",
    "    Student_id.append(parse_line(li, ',', 0, \"int\"))\n",
    "    nom.append(parse_line(li, ',', 1, \"str\"))\n",
    "    prenom.append(parse_line(li, ',', 2, \"str\"))\n",
    "    groupe.append(parse_line(li, ',', 3, \"str\"))\n",
    "    li = f_input.readline()\n",
    "f_input.close()"
   ]
  },
  {
   "cell_type": "code",
   "execution_count": 64,
   "id": "5a8fd921",
   "metadata": {},
   "outputs": [],
   "source": [
    "i = 0\n",
    "while i < 80 :\n",
    "    mail.append(prenom[i] + '.' + nom[i] + '@univ-paris13.fr')\n",
    "    i += 1\n",
    "\n",
    "    \n"
   ]
  },
  {
   "cell_type": "code",
   "execution_count": 65,
   "id": "743f5d7b",
   "metadata": {},
   "outputs": [
    {
     "name": "stdout",
     "output_type": "stream",
     "text": [
      "[1, 2, 3, 4, 5, 6, 7, 8, 9, 10, 11, 12, 13, 14, 15, 16, 17, 18, 19, 20, 21, 22, 23, 24, 25, 26, 27, 28, 29, 30, 31, 32, 33, 34, 35, 36, 37, 38, 39, 40, 41, 42, 43, 44, 45, 46, 47, 48, 49, 50, 51, 52, 53, 54, 55, 56, 57, 58, 59, 60, 61, 62, 63, 64, 65, 66, 67, 68, 69, 70, 71, 72, 73, 74, 75, 76, 77, 78, 79, 80]\n",
      "['ABED', 'ALILI', 'ALLONSIUS', 'ALLOUNE', 'ANDRIAMISA', 'ANDRIATSAHAVOJAONA', 'ARRAR', 'AUBERT', 'AZIZI', 'BALENDRAN', 'BASKARAN', 'BELLAGRAA', 'BENAISSA', 'BOTSEKE ONGAGNA', 'BOUDARGA', 'BOUSSERHANE', 'BOYAVAL', 'BREVILLE', 'BUZURA', 'CAILLAUD', 'CAMARA', 'CHAMI', 'CHEN', 'CYPRIEN', 'DA COSTA GOMARA RUIZ', 'DIA', 'DIABIRA', 'DIALLO', 'DOVIFAAZ', 'ELABASY', 'ELNADY', 'ESSAYAH', 'FATHI', 'FRATILA', 'GUPTA', 'HAIN', 'HAMMACHE', 'HAUDE', 'HAYEK', 'HOUMIMID', 'HUANG', 'HUYNH', 'IDIER', 'JEYARAJ', 'JIE', 'KANZARI', 'LADDADA', 'LANNUZEL', 'LAURENT', 'LAZAR', 'LILE', 'LO', 'LUYEYE LU MVUALA', 'MARROU', 'MAZGAR', 'MOHAMMEDI', 'NEJJARI', 'NGUYEN', 'OUBELLA', 'OUYED', 'PAILLOT', 'PARIS', 'PATHMAHARAN', 'PIRES', 'POSTIC', 'RACHID', 'RAVEENDRAN', 'SADI OUFELLA', 'SALEMKOUR', 'SAMI', 'SAVUNDRARAJAN', 'SMAOUNE', 'SOUPRAMANIANE', 'TALBI', 'THEIVENDIRAMPILLAI', 'TIGRINI', 'TLEMSANI', 'TOPAL', 'VONGSAVANH', 'ZEROUAL']\n",
      "['Rayane', 'Amney', 'Ahmed', 'Aymen', 'Nayann', 'Ony', 'Riyad', 'Cleante', 'Rayane', 'Angela', 'Sarujan', 'Yassine', 'Younes', 'Joe', 'Othman', 'Salma', 'Maxime', 'Alexandre', 'Darius', 'Maxime', 'Moustapha', 'Bilal', 'Patrick', 'Chrislin', 'Antoine', 'Amadou', 'Sylla', 'Mamadou', 'Mehdi', 'Amgad', 'Omar', 'Charaf', 'Marie', 'Adriana-Mariana', 'Varun', 'Erwan', 'Kais', 'Auceane', 'Sofiene', 'Hani', 'Frederic', 'Alexandre', 'Laetitia', 'Jeyanika', 'Juan', 'Rayan', 'Anis', 'Dylan', 'Aicha', 'Mohamed', 'Vithia', 'Faty', 'Oceane', 'Ishak', 'Selma', 'Mazigh', 'Abdenour', 'Maxime', 'Walid', 'Neil', 'Jefferson', 'Evan', 'Kajanan', 'Nino', 'Kevin', 'Amin', 'Thirisan', 'Kenza', 'Tinhinane', 'Erwann', 'Tharshaan', 'Oussama', 'Cyril', 'Samir', 'Thevish', 'Rayane', 'Sofiane', 'Mahmut Ali', 'Aline', 'Ilyes']\n",
      "['Aramis-1\\n', 'Athos-2\\n', 'Aramis-1\\n', 'Aramis-1\\n', 'Porthos-3\\n', 'Athos-2\\n', 'Porthos-3\\n', 'Porthos-3\\n', 'SAS\\n', 'Aramis-1\\n', 'Athos-2\\n', 'Porthos-3\\n', 'Porthos-3\\n', 'Porthos-3\\n', 'Athos-2\\n', 'Aramis-1\\n', 'Athos-2\\n', 'Porthos-3\\n', 'Porthos-3\\n', 'Aramis-1\\n', 'Athos-2\\n', 'Athos-2\\n', 'Porthos-3\\n', 'Athos-2\\n', 'Aramis-1\\n', 'Porthos-3\\n', 'Porthos-3\\n', 'Aramis-1\\n', 'Porthos-3\\n', 'Athos-2\\n', 'Porthos-3\\n', 'Athos-2\\n', 'Porthos-3\\n', 'Athos-2\\n', 'Porthos-3\\n', 'SAS\\n', 'Porthos-3\\n', 'Athos-2\\n', 'Aramis-1\\n', 'Athos-2\\n', 'Athos-2\\n', 'Porthos-3\\n', 'Athos-2\\n', 'Aramis-1\\n', 'Athos-2\\n', 'Porthos-3\\n', 'Athos-2\\n', 'Aramis-1\\n', 'Aramis-1\\n', 'Athos-2\\n', 'Porthos-3\\n', 'Porthos-3\\n', 'Athos-2\\n', 'Porthos-3\\n', 'Aramis-1\\n', 'Aramis-1\\n', 'Athos-2\\n', 'Porthos-3\\n', 'Porthos-3\\n', 'Aramis-1\\n', 'Porthos-3\\n', 'Athos-2\\n', 'Aramis-1\\n', 'SAS\\n', 'Athos-2\\n', 'Aramis-1\\n', 'Porthos-3\\n', 'Aramis-1\\n', 'Athos-2\\n', 'Athos-2\\n', 'Athos-2\\n', 'Athos-2\\n', 'Athos-2\\n', 'Aramis-1\\n', 'Aramis-1\\n', 'Aramis-1\\n', 'Aramis-1\\n', 'Porthos-3\\n', 'Porthos-3\\n', 'Aramis-1\\n']\n",
      "['Rayane.ABED@univ-paris13.fr', 'Amney.ALILI@univ-paris13.fr', 'Ahmed.ALLONSIUS@univ-paris13.fr', 'Aymen.ALLOUNE@univ-paris13.fr', 'Nayann.ANDRIAMISA@univ-paris13.fr', 'Ony.ANDRIATSAHAVOJAONA@univ-paris13.fr', 'Riyad.ARRAR@univ-paris13.fr', 'Cleante.AUBERT@univ-paris13.fr', 'Rayane.AZIZI@univ-paris13.fr', 'Angela.BALENDRAN@univ-paris13.fr', 'Sarujan.BASKARAN@univ-paris13.fr', 'Yassine.BELLAGRAA@univ-paris13.fr', 'Younes.BENAISSA@univ-paris13.fr', 'Joe.BOTSEKE ONGAGNA@univ-paris13.fr', 'Othman.BOUDARGA@univ-paris13.fr', 'Salma.BOUSSERHANE@univ-paris13.fr', 'Maxime.BOYAVAL@univ-paris13.fr', 'Alexandre.BREVILLE@univ-paris13.fr', 'Darius.BUZURA@univ-paris13.fr', 'Maxime.CAILLAUD@univ-paris13.fr', 'Moustapha.CAMARA@univ-paris13.fr', 'Bilal.CHAMI@univ-paris13.fr', 'Patrick.CHEN@univ-paris13.fr', 'Chrislin.CYPRIEN@univ-paris13.fr', 'Antoine.DA COSTA GOMARA RUIZ@univ-paris13.fr', 'Amadou.DIA@univ-paris13.fr', 'Sylla.DIABIRA@univ-paris13.fr', 'Mamadou.DIALLO@univ-paris13.fr', 'Mehdi.DOVIFAAZ@univ-paris13.fr', 'Amgad.ELABASY@univ-paris13.fr', 'Omar.ELNADY@univ-paris13.fr', 'Charaf.ESSAYAH@univ-paris13.fr', 'Marie.FATHI@univ-paris13.fr', 'Adriana-Mariana.FRATILA@univ-paris13.fr', 'Varun.GUPTA@univ-paris13.fr', 'Erwan.HAIN@univ-paris13.fr', 'Kais.HAMMACHE@univ-paris13.fr', 'Auceane.HAUDE@univ-paris13.fr', 'Sofiene.HAYEK@univ-paris13.fr', 'Hani.HOUMIMID@univ-paris13.fr', 'Frederic.HUANG@univ-paris13.fr', 'Alexandre.HUYNH@univ-paris13.fr', 'Laetitia.IDIER@univ-paris13.fr', 'Jeyanika.JEYARAJ@univ-paris13.fr', 'Juan.JIE@univ-paris13.fr', 'Rayan.KANZARI@univ-paris13.fr', 'Anis.LADDADA@univ-paris13.fr', 'Dylan.LANNUZEL@univ-paris13.fr', 'Aicha.LAURENT@univ-paris13.fr', 'Mohamed.LAZAR@univ-paris13.fr', 'Vithia.LILE@univ-paris13.fr', 'Faty.LO@univ-paris13.fr', 'Oceane.LUYEYE LU MVUALA@univ-paris13.fr', 'Ishak.MARROU@univ-paris13.fr', 'Selma.MAZGAR@univ-paris13.fr', 'Mazigh.MOHAMMEDI@univ-paris13.fr', 'Abdenour.NEJJARI@univ-paris13.fr', 'Maxime.NGUYEN@univ-paris13.fr', 'Walid.OUBELLA@univ-paris13.fr', 'Neil.OUYED@univ-paris13.fr', 'Jefferson.PAILLOT@univ-paris13.fr', 'Evan.PARIS@univ-paris13.fr', 'Kajanan.PATHMAHARAN@univ-paris13.fr', 'Nino.PIRES@univ-paris13.fr', 'Kevin.POSTIC@univ-paris13.fr', 'Amin.RACHID@univ-paris13.fr', 'Thirisan.RAVEENDRAN@univ-paris13.fr', 'Kenza.SADI OUFELLA@univ-paris13.fr', 'Tinhinane.SALEMKOUR@univ-paris13.fr', 'Erwann.SAMI@univ-paris13.fr', 'Tharshaan.SAVUNDRARAJAN@univ-paris13.fr', 'Oussama.SMAOUNE@univ-paris13.fr', 'Cyril.SOUPRAMANIANE@univ-paris13.fr', 'Samir.TALBI@univ-paris13.fr', 'Thevish.THEIVENDIRAMPILLAI@univ-paris13.fr', 'Rayane.TIGRINI@univ-paris13.fr', 'Sofiane.TLEMSANI@univ-paris13.fr', 'Mahmut Ali.TOPAL@univ-paris13.fr', 'Aline.VONGSAVANH@univ-paris13.fr', 'Ilyes.ZEROUAL@univ-paris13.fr']\n"
     ]
    }
   ],
   "source": [
    "print(Student_id)\n",
    "print(nom)\n",
    "print(prenom)\n",
    "print(groupe)\n",
    "print(mail)"
   ]
  },
  {
   "cell_type": "code",
   "execution_count": 73,
   "id": "cdf8f58e",
   "metadata": {},
   "outputs": [],
   "source": [
    "f_output = open ('titanic_train/Liste_etu.csv' , 'w')\n",
    "i = 0\n",
    "while i < len(Student_id) :\n",
    "    f_output.write(str(Student_id[i]) + ',' + nom[i] + ',' + prenom[i] + ',' + mail[i] + ',' + groupe[i])\n",
    "    i += 1\n",
    "\n",
    "f_output.close()\n",
    "\n",
    "\n",
    "\n"
   ]
  }
 ],
 "metadata": {
  "kernelspec": {
   "display_name": "base",
   "language": "python",
   "name": "python3"
  },
  "language_info": {
   "codemirror_mode": {
    "name": "ipython",
    "version": 3
   },
   "file_extension": ".py",
   "mimetype": "text/x-python",
   "name": "python",
   "nbconvert_exporter": "python",
   "pygments_lexer": "ipython3",
   "version": "3.11.2"
  },
  "vscode": {
   "interpreter": {
    "hash": "ad2bdc8ecc057115af97d19610ffacc2b4e99fae6737bb82f5d7fb13d2f2c186"
   }
  }
 },
 "nbformat": 4,
 "nbformat_minor": 5
}
